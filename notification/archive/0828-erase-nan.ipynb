{
 "cells": [
  {
   "cell_type": "code",
   "execution_count": 1,
   "metadata": {},
   "outputs": [
    {
     "data": {
      "text/html": [
       "<style>\n",
       "    table {\n",
       "        display: inline-block\n",
       "    }\n",
       "</style>\n"
      ],
      "text/plain": [
       "<IPython.core.display.HTML object>"
      ]
     },
     "metadata": {},
     "output_type": "display_data"
    }
   ],
   "source": [
    "%%html\n",
    "<style>\n",
    "    table {\n",
    "        display: inline-block\n",
    "    }\n",
    "</style>"
   ]
  },
  {
   "cell_type": "code",
   "execution_count": 2,
   "metadata": {},
   "outputs": [],
   "source": [
    "import pandas as pd\n",
    "import numpy as np"
   ]
  },
  {
   "cell_type": "code",
   "execution_count": 3,
   "metadata": {},
   "outputs": [],
   "source": [
    "data = pd.read_csv('data/day_filled_train.csv')"
   ]
  },
  {
   "cell_type": "code",
   "execution_count": 34,
   "metadata": {},
   "outputs": [
    {
     "data": {
      "text/plain": [
       "Index(['acc_id', 'day', 'class_0', 'class_1', 'class_2', 'class_3', 'class_4',\n",
       "       'class_5', 'class_6', 'class_7', 'etc_cnt', 'num_opponent',\n",
       "       'pledge_cnt', 'random_attacker_cnt', 'random_defender_cnt',\n",
       "       'same_pledge_cnt', 'temp_cnt', 'isMajorClass',\n",
       "       'avg_play_rate_per_pledge', 'char_id', 'combat_char_cnt',\n",
       "       'combat_play_time', 'p_etc_cnt', 'non_combat_play_time',\n",
       "       'play_char_cnt', 'pledge_combat_cnt', 'p_random_attacker_cnt',\n",
       "       'p_random_defender_cnt', 'p_same_pledge_cnt', 'p_temp_cnt',\n",
       "       'total_combat_cnt_per_pledge', 'total_item_price', 'time_bin_0',\n",
       "       'time_bin_1', 'time_bin_2', 'time_bin_3', 'type_0', 'type_1',\n",
       "       'boss_monster', 'death', 'enchant_count', 'exp_recovery', 'fishing',\n",
       "       'game_money_change', 'npc_kill', 'party_exp', 'playtime',\n",
       "       'private_shop', 'quest_exp', 'revive', 'solo_exp', 'total_exp',\n",
       "       'fishing_prop'],\n",
       "      dtype='object')"
      ]
     },
     "execution_count": 34,
     "metadata": {},
     "output_type": "execute_result"
    }
   ],
   "source": [
    "data.columns"
   ]
  },
  {
   "cell_type": "code",
   "execution_count": 4,
   "metadata": {},
   "outputs": [],
   "source": [
    "df = data.copy()"
   ]
  },
  {
   "cell_type": "markdown",
   "metadata": {},
   "source": [
    "## 변수명 정리\n",
    "\n",
    "<style>\n",
    "    table {\n",
    "        display: inline-block\n",
    "    }\n",
    "</style>\n",
    "\n",
    "|의미|축약어|\n",
    "|:---:|:---:|\n",
    "|activity|a|\n",
    "|combat|c|\n",
    "|pledge|p|\n",
    "|trade|t|\n",
    "|payment|pa|\n",
    "\n",
    "접두어로 쓰이는 축약어는 해당 변수가 있던 필드를 의미  \n",
    "해당 변수가 어느 필드에 대한 정보인지 파악하기 쉽게 하고자 접두어를 붙여봤습니다.  \n",
    "접두어 없으면 새로 만든 feature.\n",
    "  \n",
    "  \n",
    "|의미|축약어|\n",
    "|:---:|:---:|\n",
    "|count|cnt|\n",
    "|average|avg|\n",
    "|sum|sum|\n",
    "|total|tot|"
   ]
  },
  {
   "cell_type": "code",
   "execution_count": 18,
   "metadata": {},
   "outputs": [],
   "source": [
    "# columns name 필드접두어 추가한 이름으로 변경\n",
    "\n",
    "df.rename(columns={'class_0':'c_cnt_class0', # c_cnt_class0 : \"combat count class0\", 해당 날짜에 class0 으로 전투한 횟수\n",
    "                  'class_1':'c_cnt_class1',\n",
    "                  'class_2':'c_cnt_class2',\n",
    "                  'class_3':'c_cnt_class3',\n",
    "                  'class_4':'c_cnt_class4',\n",
    "                  'class_5':'c_cnt_class5',\n",
    "                  'class_6':'c_cnt_class6',\n",
    "                  'class_7':'c_cnt_class7',\n",
    "                  'etc_cnt':'c_etc_cnt', \n",
    "                  'num_opponent':'c_num_opponent',\n",
    "                  'pledge_cnt':'c_pledge_cnt',\n",
    "                  'random_attacker_cnt':'c_random_attacker_cnt',\n",
    "                  'random_defender_cnt':'c_random_defender_cnt',\n",
    "                  'same_pledge_cnt':'c_same_pledge_cnt',\n",
    "                  'temp_cnt':'c_temp_cnt',\n",
    "                  'avg_play_rate_per_pledge':'avg_play_rate_per_p',\n",
    "                  'combat_char_cnt':'p_c_char_cnt', # pledge 필드, combat char count\n",
    "                  'combat_play_time':'p_c_sum_play_time', # pledge 필드, combat sum play time\n",
    "                  'non_combat_play_time':'p_non_c_sum_play_time',\n",
    "                  'play_char_cnt':'p_play_char_cnt',\n",
    "                  'pledge_combat_cnt':'p_c_cnt',\n",
    "                  'total_combat_cnt_per_pledge':'tot_c_rank_per_p',\n",
    "                  'total_item_price':'tot_item_price',\n",
    "                  'time_bin_0':'t_time_bin_0',\n",
    "                  'time_bin_1':'t_time_bin_1',\n",
    "                  'time_bin_2':'t_time_bin_2',\n",
    "                  'time_bin_3':'t_time_bin_3',\n",
    "                  'type_0':'t_type_0',\n",
    "                  'type_1':'t_type_1',\n",
    "                  'death':'a_death_cnt',\n",
    "                  'enchant_count':'a_enchant_count',\n",
    "                  'exp_recovery':'a_exp_recovery_cnt',\n",
    "                  'fishing':'a_fish',\n",
    "                  'game_money_change':'a_money_change',\n",
    "                  'npc_kill':'a_npc_kill',\n",
    "                  'party_exp':'a_party_exp',\n",
    "                  'playtime':'a_playtime',\n",
    "                  'private_shop':'a_private_shop',\n",
    "                  'quest_exp':'a_quest_exp',\n",
    "                  'revive':'a_revive_cnt',\n",
    "                  'rich_monster':'a_boss_monster',\n",
    "                  'solo_exp':'a_solo_exp',\n",
    "                  'total_exp':'tot_exp',\n",
    "                  }, inplace=True)\n"
   ]
  },
  {
   "cell_type": "code",
   "execution_count": 6,
   "metadata": {},
   "outputs": [],
   "source": [
    "# c_cnt_class(n): 해당 class(직업)으로 전투한 횟수\n",
    "# NaN -> 전투 안한 날 -> 0으로\n",
    "\n",
    "cols = ['c_cnt_class0','c_cnt_class1','c_cnt_class2','c_cnt_class3',\n",
    "         'c_cnt_class4','c_cnt_class5','c_cnt_class6','c_cnt_class7']\n",
    "\n",
    "df[cols] = df[cols].fillna(0)"
   ]
  },
  {
   "cell_type": "code",
   "execution_count": 7,
   "metadata": {},
   "outputs": [],
   "source": [
    "# c_etc_cnt: 기타 전투 횟수\n",
    "# NaN -> 전투 안한 날 -> 0으로\n",
    "\n",
    "cols = ['c_etc_cnt']\n",
    "df[cols] = df[cols].fillna(0)"
   ]
  },
  {
   "cell_type": "code",
   "execution_count": 8,
   "metadata": {},
   "outputs": [],
   "source": [
    "# c_num_opponent: 전투 상대 캐릭터 수\n",
    "# NaN -> 전투 안한 날 -> 0으로\n",
    "\n",
    "cols = ['c_num_opponent']\n",
    "df[cols] = df[cols].fillna(0)"
   ]
  },
  {
   "cell_type": "code",
   "execution_count": 9,
   "metadata": {},
   "outputs": [],
   "source": [
    "# c_pledge_cnt: 혈맹간 전투에 참여한 횟수\n",
    "# NaN -> 전투 안한 날 -> 0으로\n",
    "\n",
    "cols = ['c_pledge_cnt']\n",
    "df[cols] = df[cols].fillna(0)"
   ]
  },
  {
   "cell_type": "code",
   "execution_count": 10,
   "metadata": {},
   "outputs": [],
   "source": [
    "# c_random_attacker_cnt: 본인이 막피 공격한 횟수\n",
    "# c_random_defender_cnt: 본인이 막피공격 받은 횟수\n",
    "# NaN -> 공격/방어 안한 날 -> 0으로\n",
    "\n",
    "cols = ['c_random_attacker_cnt', 'c_random_defender_cnt']\n",
    "df[cols] = df[cols].fillna(0)"
   ]
  },
  {
   "cell_type": "code",
   "execution_count": 11,
   "metadata": {},
   "outputs": [],
   "source": [
    "# c_same_pledge_cnt: 같은 혈맹원 내에서 전투한 횟수\n",
    "# NaN -> 전투 안한 날 -> 0으로\n",
    "\n",
    "cols = ['c_same_pledge_cnt']\n",
    "df[cols] = df[cols].fillna(0)"
   ]
  },
  {
   "cell_type": "code",
   "execution_count": 12,
   "metadata": {},
   "outputs": [],
   "source": [
    "# c_temp_cnt: 단발성 전투 횟수\n",
    "\n",
    "cols = ['c_temp_cnt']\n",
    "df[cols] = df[cols].fillna(0)"
   ]
  },
  {
   "cell_type": "code",
   "execution_count": 13,
   "metadata": {},
   "outputs": [],
   "source": [
    "# isMajorClass: 주류 클래스 플레이 비율\n",
    "# NaN -> 평균 비율로 채우기\n",
    "\n",
    "cols = ['isMajorClass']\n",
    "df[cols] = df.groupby('acc_id').isMajorClass.transform(lambda x: x.fillna(x.mean()))"
   ]
  },
  {
   "cell_type": "code",
   "execution_count": 14,
   "metadata": {},
   "outputs": [],
   "source": [
    "# avg_play_rate_per_p: 해당 유저가 소속된 혈맹의 평균 유저 접속률\n",
    "# NaN -> 혈맹에 대한 값 -> 평균으로 채우기\n",
    "\n",
    "cols = ['avg_play_rate_per_p']\n",
    "df[cols] = df.groupby('acc_id').avg_play_rate_per_p.transform(lambda x: x.fillna(x.mean()))\n",
    "\n",
    "# 남은 NaN -> 혈맹 들지 않아 평균이 NaN 이었기 때문 -> 0으로 채우기\n",
    "df[cols] = df[cols].fillna(0)"
   ]
  },
  {
   "cell_type": "code",
   "execution_count": 15,
   "metadata": {},
   "outputs": [],
   "source": [
    "# char_id: ?? drop 합니다.\n",
    "df.drop('char_id', axis=1, inplace=True)"
   ]
  },
  {
   "cell_type": "code",
   "execution_count": 16,
   "metadata": {},
   "outputs": [],
   "source": [
    "# p_c_char_cnt: 혈맹 전투 참여한 혈맹원 수\n",
    "# p_c_sum_play_time: 혈맹의 전투 캐릭터들의 플레이 시간의 합\n",
    "# p_non_c_sum_play_time: 혈맹의 비전투 캐릭터들의 플레이 시간의 합\n",
    "# p_etc_cnt: 혈맹원의 기타 전투 횟수 합\n",
    "# p_play_char_cnt: 해당 날짜 게임에 접속한 혈맹원 수\n",
    "# p_c_cnt: 혈맹 간 전투 횟수\n",
    "# p_random_attacker_cnt: 혈맹원 중 막피 공격한 횟수 합\n",
    "# p_random_deffender_cnt: 혈맹원 중 막피 공격당한 횟수 합\n",
    "# p_same_pledge_cnt: 혈맹원끼리의 전투 횟수 합\n",
    "# p_temp_cnt: 혈맹원들의 단발성 전투 횟수 합\n",
    "\n",
    "# 혈맹 데이터 NaN? -> 평균으로 대체 -> 개인에 대한 값이 아닌 가입한 혈맹에 대한 정보이기 때문\n",
    "\n",
    "cols = ['p_c_char_cnt', 'p_c_sum_play_time', 'p_non_c_sum_play_time', 'p_etc_cnt',\n",
    "        'p_play_char_cnt', 'p_c_cnt', 'p_random_attacker_cnt', 'p_random_defender_cnt', \n",
    "        'p_same_pledge_cnt', 'p_temp_cnt']\n",
    "\n",
    "for col in cols:\n",
    "    df[col] = df.groupby('acc_id')[col].transform(lambda x: x.fillna(x.mean()))\n",
    "    \n",
    "# 남은 NaN -> 혈맹 들지 않아 평균이 NaN -> 0으로.\n",
    "df[cols] = df[cols].fillna(0)"
   ]
  },
  {
   "cell_type": "code",
   "execution_count": 35,
   "metadata": {},
   "outputs": [],
   "source": [
    "# tot_c_rank_per_p: 전체 혈맹들 중 해당 혈맹의 전투컨텐츠 즐기는 순위 (1.0: 1위, 0.0: 최하위)\n",
    "# 혈맹 데이터 NaN -> 평균으로 대체\n",
    "\n",
    "cols = ['tot_c_rank_per_p']\n",
    "df[cols] = df.groupby('acc_id')[cols].transform(lambda x: x.fillna(x.mean()))\n",
    "\n",
    "# 남은 NaN -> 혈맹 들지 않아 평균 NaN -> 0으로.\n",
    "df[cols] = df[cols].fillna(0)"
   ]
  },
  {
   "cell_type": "code",
   "execution_count": 43,
   "metadata": {},
   "outputs": [],
   "source": [
    "# tot_item_price: 해당 날짜의 거래 금액 총합\n",
    "# time_bin_0,1,2,3: 0~6, 6~12, 12~18, 18~24 시간대 거래 횟수\n",
    "# type_0,1: 0, 해당 날짜 교환창으로 거래한 횟수. \n",
    "#           1, 해당 날짜 개인상점으로 거래한 횟수.\n",
    "# NaN -> 거래 안한 날 -> 0으로.\n",
    "\n",
    "cols = ['tot_item_price', 't_time_bin_0', 't_time_bin_1', 't_time_bin_2', 't_time_bin_3', 't_type_0', 't_type_1']\n",
    "df[cols] = df[cols].fillna(0)"
   ]
  },
  {
   "cell_type": "code",
   "execution_count": 48,
   "metadata": {},
   "outputs": [],
   "source": [
    "# a_boss_monster: 해당 날짜에 보스몬스터 타격(사냥)한 횟수\n",
    "# NaN -> 타격(사냥) 안한날\n",
    "\n",
    "cols = ['a_boss_monster']\n",
    "df[cols] = df[cols].fillna(0)"
   ]
  },
  {
   "cell_type": "code",
   "execution_count": 54,
   "metadata": {},
   "outputs": [],
   "source": [
    "# a_death_cnt: 해당 날짜의 캐릭터 사망 횟수 (원래 정규화 되어있음)\n",
    "# a_revive_cnt: 해당 날짜의 캐릭터 부활 횟수 (원래 정규화 되어있음. a_death_cnt 값과 비슷함)\n",
    "# NaN -> 안죽거나 부활 안한날 -> 0으로\n",
    "\n",
    "cols = ['a_death_cnt', 'a_revive_cnt']\n",
    "df[cols] = df[cols].fillna(0)"
   ]
  },
  {
   "cell_type": "code",
   "execution_count": 56,
   "metadata": {},
   "outputs": [],
   "source": [
    "# a_enchant_count: 7레벨 이상 인챈트 시도 횟수\n",
    "# a_exp_recovery_cnt: 경험치 복구 횟수\n",
    "# a_fish: 일일 낚시 시간\n",
    "# a_money_change: 일일 아데나 변동량\n",
    "# a_npc_kill: 죽인 몬스터 수\n",
    "# a_party_exp: 획득한 파티 사냥 경험치\n",
    "# a_playtime: 일일 플레이 시간\n",
    "# a_private_shop: 개인상점 운영 시간\n",
    "# a_quest_exp: 퀘스트 획득 경험치\n",
    "# a_solo_exp: 솔로 사냥 획득 경험치\n",
    "# NaN -> (activity 필드) 모두 해당 날짜에 하지 않음을 의미 -> 0으로.\n",
    "\n",
    "cols = ['a_enchant_count', 'a_exp_recovery_cnt', 'a_fish', 'a_money_change', \n",
    "        'a_npc_kill', 'a_party_exp', 'a_playtime', 'a_private_shop', 'a_quest_exp', 'a_solo_exp']\n",
    "df[cols] = df[cols].fillna(0)"
   ]
  },
  {
   "cell_type": "code",
   "execution_count": 58,
   "metadata": {},
   "outputs": [],
   "source": [
    "# tot_exp: solo, party, quest exp 의 총합\n",
    "# fishing_prop: 낚시시간/플레이시간\n",
    "# NaN -> 해당 날짜에 하지 않음 -> 0으로\n",
    "\n",
    "cols = ['tot_exp', 'fishing_prop']\n",
    "df[cols] = df[cols].fillna(0)"
   ]
  },
  {
   "cell_type": "code",
   "execution_count": 59,
   "metadata": {},
   "outputs": [
    {
     "data": {
      "text/plain": [
       "acc_id                   0\n",
       "day                      0\n",
       "c_cnt_class0             0\n",
       "c_cnt_class1             0\n",
       "c_cnt_class2             0\n",
       "c_cnt_class3             0\n",
       "c_cnt_class4             0\n",
       "c_cnt_class5             0\n",
       "c_cnt_class6             0\n",
       "c_cnt_class7             0\n",
       "c_etc_cnt                0\n",
       "c_num_opponent           0\n",
       "c_pledge_cnt             0\n",
       "c_random_attacker_cnt    0\n",
       "c_random_defender_cnt    0\n",
       "c_same_pledge_cnt        0\n",
       "c_temp_cnt               0\n",
       "isMajorClass             0\n",
       "avg_play_rate_per_p      0\n",
       "p_c_char_cnt             0\n",
       "p_c_sum_play_time        0\n",
       "p_etc_cnt                0\n",
       "p_non_c_sum_play_time    0\n",
       "p_play_char_cnt          0\n",
       "p_c_cnt                  0\n",
       "p_random_attacker_cnt    0\n",
       "p_random_defender_cnt    0\n",
       "p_same_pledge_cnt        0\n",
       "p_temp_cnt               0\n",
       "tot_c_rank_per_p         0\n",
       "tot_item_price           0\n",
       "time_bin_0               0\n",
       "time_bin_1               0\n",
       "time_bin_2               0\n",
       "time_bin_3               0\n",
       "type_0                   0\n",
       "type_1                   0\n",
       "a_boss_monster           0\n",
       "a_death_cnt              0\n",
       "a_enchant_count          0\n",
       "a_exp_recovery_cnt       0\n",
       "a_fish                   0\n",
       "a_money_change           0\n",
       "a_npc_kill               0\n",
       "a_party_exp              0\n",
       "a_playtime               0\n",
       "a_private_shop           0\n",
       "a_quest_exp              0\n",
       "a_revive_cnt             0\n",
       "a_solo_exp               0\n",
       "tot_exp                  0\n",
       "fishing_prop             0\n",
       "dtype: int64"
      ]
     },
     "execution_count": 59,
     "metadata": {},
     "output_type": "execute_result"
    }
   ],
   "source": [
    "df.isnull().sum()"
   ]
  },
  {
   "cell_type": "code",
   "execution_count": 61,
   "metadata": {},
   "outputs": [],
   "source": [
    "# 파일 저장\n",
    "df.to_csv('data/28day_no_nan_train.csv')"
   ]
  }
 ],
 "metadata": {
  "kernelspec": {
   "display_name": "Python 3",
   "language": "python",
   "name": "python3"
  },
  "language_info": {
   "codemirror_mode": {
    "name": "ipython",
    "version": 3
   },
   "file_extension": ".py",
   "mimetype": "text/x-python",
   "name": "python",
   "nbconvert_exporter": "python",
   "pygments_lexer": "ipython3",
   "version": "3.7.4"
  }
 },
 "nbformat": 4,
 "nbformat_minor": 2
}
