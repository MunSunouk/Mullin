{
 "cells": [
  {
   "cell_type": "code",
   "execution_count": 1,
   "metadata": {},
   "outputs": [],
   "source": [
    "### Stacked autoencoder class\n",
    "#\n",
    "## 사용법\n",
    "# ae = autoencoder() # 객체 생성\n",
    "# ae.make(x)         # x 데이터 셋에 맞춰 그래프 만들기\n",
    "# ae.train(x)        # 학습하기\n",
    "#\n",
    "## ae.train(x) 리턴값\n",
    "# encoding, outputs = ae.train(x)\n",
    "# encoding: 중요한 feature 로 인코딩된 정보들\n",
    "# outputs: encoding 정보를 바탕으로 디코딩한 출력들\n",
    "#\n",
    "## 그 외 메소드들\n",
    "# set_layer(hidden1, hidden2) : 히든 레이어 사이즈 설정\n",
    "# set_train(n_epochs, learning_rate, batch_size, l2_reg=0.0001) : 학습 파라미터 설정\n",
    "#\n",
    "## 멤버 변수\n",
    "# shape0 : 전체 데이터 수\n",
    "# n_inputs : 데이터 feature 수 (df.shape[1])\n",
    "# n_hidden1 : 인코더 레이어 크기\n",
    "# n_hidden2 : 인코딩 유닛 크기\n",
    "# n_hidden3 : 디코더 레이어 크기 (=n_hidden1)\n",
    "# n_outputs : 디코딩된 출력 크기 (=n_inputs)\n",
    "# n_epochs : 총 에폭 수\n",
    "# learning_rate : 학습률\n",
    "# batch_size : 미니배치 크기\n",
    "# l2_reg : l2 규제율 (https://kolikim.tistory.com/50) (https://stackoverflow.com/questions/37107223/how-to-add-regularizations-in-tensorflow)"
   ]
  },
  {
   "cell_type": "code",
   "execution_count": 2,
   "metadata": {},
   "outputs": [
    {
     "name": "stderr",
     "output_type": "stream",
     "text": [
      "C:\\Users\\MAIN\\Anaconda3\\envs\\kaggle\\lib\\site-packages\\tensorflow\\python\\framework\\dtypes.py:516: FutureWarning: Passing (type, 1) or '1type' as a synonym of type is deprecated; in a future version of numpy, it will be understood as (type, (1,)) / '(1,)type'.\n",
      "  _np_qint8 = np.dtype([(\"qint8\", np.int8, 1)])\n",
      "C:\\Users\\MAIN\\Anaconda3\\envs\\kaggle\\lib\\site-packages\\tensorflow\\python\\framework\\dtypes.py:517: FutureWarning: Passing (type, 1) or '1type' as a synonym of type is deprecated; in a future version of numpy, it will be understood as (type, (1,)) / '(1,)type'.\n",
      "  _np_quint8 = np.dtype([(\"quint8\", np.uint8, 1)])\n",
      "C:\\Users\\MAIN\\Anaconda3\\envs\\kaggle\\lib\\site-packages\\tensorflow\\python\\framework\\dtypes.py:518: FutureWarning: Passing (type, 1) or '1type' as a synonym of type is deprecated; in a future version of numpy, it will be understood as (type, (1,)) / '(1,)type'.\n",
      "  _np_qint16 = np.dtype([(\"qint16\", np.int16, 1)])\n",
      "C:\\Users\\MAIN\\Anaconda3\\envs\\kaggle\\lib\\site-packages\\tensorflow\\python\\framework\\dtypes.py:519: FutureWarning: Passing (type, 1) or '1type' as a synonym of type is deprecated; in a future version of numpy, it will be understood as (type, (1,)) / '(1,)type'.\n",
      "  _np_quint16 = np.dtype([(\"quint16\", np.uint16, 1)])\n",
      "C:\\Users\\MAIN\\Anaconda3\\envs\\kaggle\\lib\\site-packages\\tensorflow\\python\\framework\\dtypes.py:520: FutureWarning: Passing (type, 1) or '1type' as a synonym of type is deprecated; in a future version of numpy, it will be understood as (type, (1,)) / '(1,)type'.\n",
      "  _np_qint32 = np.dtype([(\"qint32\", np.int32, 1)])\n",
      "C:\\Users\\MAIN\\Anaconda3\\envs\\kaggle\\lib\\site-packages\\tensorflow\\python\\framework\\dtypes.py:525: FutureWarning: Passing (type, 1) or '1type' as a synonym of type is deprecated; in a future version of numpy, it will be understood as (type, (1,)) / '(1,)type'.\n",
      "  np_resource = np.dtype([(\"resource\", np.ubyte, 1)])\n",
      "C:\\Users\\MAIN\\Anaconda3\\envs\\kaggle\\lib\\site-packages\\tensorboard\\compat\\tensorflow_stub\\dtypes.py:541: FutureWarning: Passing (type, 1) or '1type' as a synonym of type is deprecated; in a future version of numpy, it will be understood as (type, (1,)) / '(1,)type'.\n",
      "  _np_qint8 = np.dtype([(\"qint8\", np.int8, 1)])\n",
      "C:\\Users\\MAIN\\Anaconda3\\envs\\kaggle\\lib\\site-packages\\tensorboard\\compat\\tensorflow_stub\\dtypes.py:542: FutureWarning: Passing (type, 1) or '1type' as a synonym of type is deprecated; in a future version of numpy, it will be understood as (type, (1,)) / '(1,)type'.\n",
      "  _np_quint8 = np.dtype([(\"quint8\", np.uint8, 1)])\n",
      "C:\\Users\\MAIN\\Anaconda3\\envs\\kaggle\\lib\\site-packages\\tensorboard\\compat\\tensorflow_stub\\dtypes.py:543: FutureWarning: Passing (type, 1) or '1type' as a synonym of type is deprecated; in a future version of numpy, it will be understood as (type, (1,)) / '(1,)type'.\n",
      "  _np_qint16 = np.dtype([(\"qint16\", np.int16, 1)])\n",
      "C:\\Users\\MAIN\\Anaconda3\\envs\\kaggle\\lib\\site-packages\\tensorboard\\compat\\tensorflow_stub\\dtypes.py:544: FutureWarning: Passing (type, 1) or '1type' as a synonym of type is deprecated; in a future version of numpy, it will be understood as (type, (1,)) / '(1,)type'.\n",
      "  _np_quint16 = np.dtype([(\"quint16\", np.uint16, 1)])\n",
      "C:\\Users\\MAIN\\Anaconda3\\envs\\kaggle\\lib\\site-packages\\tensorboard\\compat\\tensorflow_stub\\dtypes.py:545: FutureWarning: Passing (type, 1) or '1type' as a synonym of type is deprecated; in a future version of numpy, it will be understood as (type, (1,)) / '(1,)type'.\n",
      "  _np_qint32 = np.dtype([(\"qint32\", np.int32, 1)])\n",
      "C:\\Users\\MAIN\\Anaconda3\\envs\\kaggle\\lib\\site-packages\\tensorboard\\compat\\tensorflow_stub\\dtypes.py:550: FutureWarning: Passing (type, 1) or '1type' as a synonym of type is deprecated; in a future version of numpy, it will be understood as (type, (1,)) / '(1,)type'.\n",
      "  np_resource = np.dtype([(\"resource\", np.ubyte, 1)])\n"
     ]
    }
   ],
   "source": [
    "import tensorflow as tf\n",
    "import numpy as np\n",
    "import pandas as pd\n",
    "from functools import partial\n",
    "from datetime import datetime\n",
    "import os"
   ]
  },
  {
   "cell_type": "code",
   "execution_count": 3,
   "metadata": {},
   "outputs": [],
   "source": [
    "class autoencoder():\n",
    "    # 생성자. 사용될 변수 미리 선언\n",
    "    def __init__(self, n_hidden1=40, n_hidden2=20):\n",
    "        self.shape0 = None               # 전체 데이터 수\n",
    "        \n",
    "        self.n_inputs = None             # input size\n",
    "        self.n_hidden1 = n_hidden1       # encoder layer size\n",
    "        self.n_hidden2 = n_hidden2       # coding units size (like PCA)\n",
    "        self.n_hidden3 = self.n_hidden1  # decoder layer size\n",
    "        self.n_outputs = self.n_inputs   # restruction\n",
    "        \n",
    "        self.n_epochs = 5\n",
    "        self.learning_rate = 0.01\n",
    "        self.batch_size = 150\n",
    "        self.l2_reg = 0.0001\n",
    "    \n",
    "    # 레이어 사이즈 설정\n",
    "    def set_layer(self, n_hidden1, n_hidden2):\n",
    "        self.n_hidden1 = n_hidden1\n",
    "        self.n_hidden2 = n_hidden2\n",
    "        self.n_hidden3 = self.n_hidden1\n",
    "        self.n_outputs = self.n_inputs\n",
    "\n",
    "    # 학습 파라미터 설정\n",
    "    def set_train(self, n_epochs, learning_rate, batch_size, l2_reg=0.0001):\n",
    "        if not self.shape0:\n",
    "            print('메소드 make_autoencoder 를 먼저 실행해주세요')\n",
    "            return\n",
    "        self.n_epochs = n_epochs\n",
    "        self.learning_rate = learning_rate\n",
    "        self.batch_size = batch_size\n",
    "        self.n_batches = self.shape0 // batch_size\n",
    "        self.l2_reg = l2_reg\n",
    "        \n",
    "    def make(self, df):\n",
    "        self.shape0 = df.shape[0]\n",
    "        self.n_inputs = df.shape[1]\n",
    "        self.n_outputs = self.n_inputs # autoencoder: input_size==output_size\n",
    "        if self.batch_size > df.shape[0]:\n",
    "            print(f'batch_size가 {self.shape0}로 변경됨')\n",
    "            self.batch_size = self.shape0\n",
    "        self.n_batches = self.shape0 // self.batch_size\n",
    "        \n",
    "        he_init = tf.keras.initializers.he_normal() # He 초기화\n",
    "        l2_regularizer = tf.contrib.layers.l2_regularizer(scale=self.l2_reg) # L2 규제\n",
    "        \n",
    "        # partial 을 이용한 tf.layers.dense 의 새 버전 만들기\n",
    "        # partial 첫번째 인자는 새 버전 만들 원본.\n",
    "        # 나머지 인자는 원본 함수가 갖는 인자를 재정의 하는데 쓰인다.\n",
    "        dense_layer = partial(tf.layers.dense,\n",
    "                              activation=tf.nn.relu,\n",
    "                              kernel_initializer=he_init,\n",
    "                              kernel_regularizer=l2_regularizer)\n",
    "        \n",
    "        # Stacked Automater 구성\n",
    "        self.inputs = tf.placeholder(tf.float32, shape=[None, self.n_inputs])\n",
    "\n",
    "        self.hidden1 = dense_layer(self.inputs, self.n_hidden1)\n",
    "        self.hidden2 = dense_layer(self.hidden1, self.n_hidden2)\n",
    "        self.hidden3 = dense_layer(self.hidden2, self.n_hidden3)\n",
    "        self.coding_units = self.hidden2\n",
    "\n",
    "        self.outputs = dense_layer(self.hidden3, self.n_outputs, activation=None)\n",
    "\n",
    "        # loss\n",
    "        self.reconstruction_loss = tf.reduce_mean(tf.square(self.outputs - self.inputs)) # mse\n",
    "        self.reg_losses = tf.get_collection(tf.GraphKeys.REGULARIZATION_LOSSES)\n",
    "        self.loss = tf.add_n([self.reconstruction_loss] + self.reg_losses)\n",
    "\n",
    "        # optimizer\n",
    "        self.train_op = tf.train.AdamOptimizer(self.learning_rate).minimize(self.loss)\n",
    "\n",
    "        # saver\n",
    "        self.saver = tf.train.Saver()\n",
    "\n",
    "    def shuffle_batch(self, features, seed):\n",
    "#         np.random.seed(seed) # 시드 설정시 학습이 안됨. 주석처리.\n",
    "        shuffled_index = np.random.permutation(self.n_inputs)\n",
    "        for batch_idx in np.array_split(shuffled_index, self.n_batches):\n",
    "            batch_x = features[batch_idx]\n",
    "        yield batch_x\n",
    "        \n",
    "    def train(self, train_x, tag=''):\n",
    "        with tf.Session() as sess:\n",
    "            sess.run(tf.global_variables_initializer())\n",
    "            for epoch in range(self.n_epochs):\n",
    "                for _ in range(self.n_batches):\n",
    "                    batch_x = next(self.shuffle_batch(train_x, epoch+datetime.now().hour)) # seed: 현재 시간+epoch\n",
    "                    _, _loss = sess.run([self.train_op, self.reconstruction_loss], feed_dict={self.inputs:batch_x})\n",
    "                print(f'epoch: {epoch+1}/{self.n_epochs}, Train MSE: {_loss:.10f}')\n",
    "            coding_units = sess.run(self.coding_units, feed_dict={self.inputs:train_x})\n",
    "            outputs = sess.run(self.outputs, feed_dict={self.inputs:train_x})\n",
    "            # 학습 끝나면 레이어 중앙의 인코딩 유닛과 디코딩된 아웃풋 리턴\n",
    "            return coding_units, outputs \n",
    "        \n",
    "            # train/ 디렉토리에 모델 저장합니다.\n",
    "            self.saver.save(sess, f'trained/trained_autoencoder_{tag}')\n",
    "\n",
    "#     # 저장된 모델 불러오기 및 인코딩유닛 리턴하기 --미구현--\n",
    "#     # 'Attempting to use uninitialized value' error..\n",
    "#     def get(self, tag=''):\n",
    "#         with tf.Session() as sess:\n",
    "#             if os.path.exists(f'trained/trained_autoencoder_{tag}'):\n",
    "#                 saver = tf.train.import_meta_graph(f'trained/trained_autoencoder_{tag}.meta')\n",
    "#                 saver.restore(sess, f'trained/trained_autoencoder_{tag}')\n",
    "#             coding_units_val = sess.run(self.coding_units, feed_dict={self.inputs:df_small[:2]})\n",
    "#         return coding_units\n",
    "\n",
    "\n"
   ]
  },
  {
   "cell_type": "markdown",
   "metadata": {},
   "source": [
    "### MNIST 데이터로 오토인코더 잘 작동하는지 확인하기"
   ]
  },
  {
   "cell_type": "code",
   "execution_count": 4,
   "metadata": {},
   "outputs": [
    {
     "name": "stderr",
     "output_type": "stream",
     "text": [
      "WARNING: Logging before flag parsing goes to stderr.\n",
      "W0827 03:05:12.509181 18836 deprecation.py:323] From <ipython-input-4-60a5a6863027>:3: read_data_sets (from tensorflow.contrib.learn.python.learn.datasets.mnist) is deprecated and will be removed in a future version.\n",
      "Instructions for updating:\n",
      "Please use alternatives such as official/mnist/dataset.py from tensorflow/models.\n",
      "W0827 03:05:12.511176 18836 deprecation.py:323] From C:\\Users\\MAIN\\Anaconda3\\envs\\kaggle\\lib\\site-packages\\tensorflow\\contrib\\learn\\python\\learn\\datasets\\mnist.py:260: maybe_download (from tensorflow.contrib.learn.python.learn.datasets.base) is deprecated and will be removed in a future version.\n",
      "Instructions for updating:\n",
      "Please write your own downloading logic.\n",
      "W0827 03:05:12.512172 18836 deprecation.py:323] From C:\\Users\\MAIN\\Anaconda3\\envs\\kaggle\\lib\\site-packages\\tensorflow\\contrib\\learn\\python\\learn\\datasets\\mnist.py:262: extract_images (from tensorflow.contrib.learn.python.learn.datasets.mnist) is deprecated and will be removed in a future version.\n",
      "Instructions for updating:\n",
      "Please use tf.data to implement this functionality.\n"
     ]
    },
    {
     "name": "stdout",
     "output_type": "stream",
     "text": [
      "Extracting MNIST_data/train-images-idx3-ubyte.gz\n"
     ]
    },
    {
     "name": "stderr",
     "output_type": "stream",
     "text": [
      "W0827 03:05:12.767491 18836 deprecation.py:323] From C:\\Users\\MAIN\\Anaconda3\\envs\\kaggle\\lib\\site-packages\\tensorflow\\contrib\\learn\\python\\learn\\datasets\\mnist.py:267: extract_labels (from tensorflow.contrib.learn.python.learn.datasets.mnist) is deprecated and will be removed in a future version.\n",
      "Instructions for updating:\n",
      "Please use tf.data to implement this functionality.\n",
      "W0827 03:05:12.769484 18836 deprecation.py:323] From C:\\Users\\MAIN\\Anaconda3\\envs\\kaggle\\lib\\site-packages\\tensorflow\\contrib\\learn\\python\\learn\\datasets\\mnist.py:110: dense_to_one_hot (from tensorflow.contrib.learn.python.learn.datasets.mnist) is deprecated and will be removed in a future version.\n",
      "Instructions for updating:\n",
      "Please use tf.one_hot on tensors.\n",
      "W0827 03:05:12.819351 18836 deprecation.py:323] From C:\\Users\\MAIN\\Anaconda3\\envs\\kaggle\\lib\\site-packages\\tensorflow\\contrib\\learn\\python\\learn\\datasets\\mnist.py:290: DataSet.__init__ (from tensorflow.contrib.learn.python.learn.datasets.mnist) is deprecated and will be removed in a future version.\n",
      "Instructions for updating:\n",
      "Please use alternatives such as official/mnist/dataset.py from tensorflow/models.\n"
     ]
    },
    {
     "name": "stdout",
     "output_type": "stream",
     "text": [
      "Extracting MNIST_data/train-labels-idx1-ubyte.gz\n",
      "Extracting MNIST_data/t10k-images-idx3-ubyte.gz\n",
      "Extracting MNIST_data/t10k-labels-idx1-ubyte.gz\n"
     ]
    }
   ],
   "source": [
    "from tensorflow.examples.tutorials.mnist import input_data\n",
    "\n",
    "mnist = input_data.read_data_sets(\"MNIST_data/\", one_hot=True) # MNIST_data 는 .gitignore 에 추가할것.\n",
    "\n",
    "images = mnist.train.images"
   ]
  },
  {
   "cell_type": "code",
   "execution_count": 5,
   "metadata": {},
   "outputs": [
    {
     "name": "stderr",
     "output_type": "stream",
     "text": [
      "W0827 03:05:13.105587 18836 deprecation.py:323] From <ipython-input-3-b1acc88e4f32>:58: dense (from tensorflow.python.layers.core) is deprecated and will be removed in a future version.\n",
      "Instructions for updating:\n",
      "Use keras.layers.dense instead.\n"
     ]
    },
    {
     "name": "stdout",
     "output_type": "stream",
     "text": [
      "epoch: 1/5, Train MSE: 0.0598920807\n",
      "epoch: 2/5, Train MSE: 0.0495522134\n",
      "epoch: 3/5, Train MSE: 0.0516839474\n",
      "epoch: 4/5, Train MSE: 0.0363627411\n",
      "epoch: 5/5, Train MSE: 0.0670374259\n"
     ]
    }
   ],
   "source": [
    "ae = autoencoder()     # 오토인코더 객체 생성\n",
    "ae.set_layer(400, 200) # 히든레이어 사이즈 히든1:400 히든2:200 설정\n",
    "ae.make(images)        # 그래프 만들기\n",
    "encoding, outputs = ae.train(images) # 학습하기 -> 인코딩유닛, 아웃풋 리턴"
   ]
  },
  {
   "cell_type": "code",
   "execution_count": 6,
   "metadata": {},
   "outputs": [
    {
     "name": "stdout",
     "output_type": "stream",
     "text": [
      "(55000, 784)\n",
      "(55000, 200)\n"
     ]
    },
    {
     "data": {
      "image/png": "[encoded data removed]",
      "text/plain": [
       "<Figure size 432x288 with 4 Axes>"
      ]
     },
     "metadata": {
      "needs_background": "light"
     },
     "output_type": "display_data"
    }
   ],
   "source": [
    "import matplotlib.pyplot as plt\n",
    "%matplotlib inline\n",
    "\n",
    "fig, axes = plt.subplots(2,2)\n",
    "\n",
    "axes[0][0].imshow(images[100].reshape(28,28))\n",
    "axes[0][1].imshow(outputs[100].reshape(28,28))\n",
    "axes[1][0].imshow(images[1000].reshape(28,28))\n",
    "axes[1][1].imshow(outputs[1000].reshape(28,28))\n",
    "\n",
    "print(images.shape)   # (55000, 784)\n",
    "print(encoding.shape) # (55000, 200) 784 features -> 200 features"
   ]
  }
 ],
 "metadata": {
  "kernelspec": {
   "display_name": "Python 3",
   "language": "python",
   "name": "python3"
  },
  "language_info": {
   "codemirror_mode": {
    "name": "ipython",
    "version": 3
   },
   "file_extension": ".py",
   "mimetype": "text/x-python",
   "name": "python",
   "nbconvert_exporter": "python",
   "pygments_lexer": "ipython3",
   "version": "3.7.4"
  }
 },
 "nbformat": 4,
 "nbformat_minor": 2
}
